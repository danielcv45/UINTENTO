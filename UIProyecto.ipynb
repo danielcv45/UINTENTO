{
 "cells": [
  {
   "cell_type": "code",
   "execution_count": 7,
   "metadata": {},
   "outputs": [],
   "source": [
    "import scipy.optimize as opt\n",
    "import sympy as sym\n",
    "import numpy as npTula"
   ]
  },
  {
   "cell_type": "markdown",
   "metadata": {},
   "source": [
    "Funcion a minimizar: \n",
    "$175x_1+400x_2+275x_3+220x_4+470x_5$\n",
    "\n",
    "Restricciones de disponibilidad:\n",
    "* $x_1\\leq30$\n",
    "* $x_2\\leq30$\n",
    "* $x_3\\leq30$\n",
    "* $x_4\\leq40$\n",
    "* $x_5\\leq27.5$\n",
    "\n",
    "Restriccion de material excavado:\n",
    "$20x_1+120x_2+72x_3+48x_4+32x_5=5000$"
   ]
  },
  {
   "cell_type": "code",
   "execution_count": 8,
   "metadata": {},
   "outputs": [],
   "source": [
    "c=np.array([175,400,275,220,470])\n",
    "A=np.array([[1,0,0,0,0],[0,1,0,0,0],[0,0,1,0,0],[0,0,0,1,0],[0,0,0,0,1],[-20,-120,-72,-48,-32]])\n",
    "b=np.array([30,30,30,40,27.5,-5000])"
   ]
  },
  {
   "cell_type": "code",
   "execution_count": 9,
   "metadata": {},
   "outputs": [
    {
     "data": {
      "text/plain": [
       "     con: array([], dtype=float64)\n",
       "     fun: 17347.22222222222\n",
       " message: 'Optimization terminated successfully.'\n",
       "     nit: 12\n",
       "   slack: array([3.00000000e+01, 7.10542736e-15, 1.05555556e+01, 4.00000000e+01,\n",
       "       2.75000000e+01, 0.00000000e+00])\n",
       "  status: 0\n",
       " success: True\n",
       "       x: array([ 0.        , 30.        , 19.44444444,  0.        ,  0.        ])"
      ]
     },
     "execution_count": 9,
     "metadata": {},
     "output_type": "execute_result"
    }
   ],
   "source": [
    "sol=opt.linprog(c,A,b, method=\"simplex\")\n",
    "sol"
   ]
  },
  {
   "cell_type": "code",
   "execution_count": null,
   "metadata": {},
   "outputs": [],
   "source": []
  }
 ],
 "metadata": {
  "kernelspec": {
   "display_name": "Python 3",
   "language": "python",
   "name": "python3"
  },
  "language_info": {
   "codemirror_mode": {
    "name": "ipython",
    "version": 3
   },
   "file_extension": ".py",
   "mimetype": "text/x-python",
   "name": "python",
   "nbconvert_exporter": "python",
   "pygments_lexer": "ipython3",
   "version": "3.8.3"
  }
 },
 "nbformat": 4,
 "nbformat_minor": 4
}
