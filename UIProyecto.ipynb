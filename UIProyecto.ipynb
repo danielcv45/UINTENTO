{
 "cells": [
  {
   "cell_type": "markdown",
   "metadata": {},
   "source": [
    "<img style=\"float: right; margin: 0px 0px 15px 15px;\" src=\"http://rentalstore.tracsa.com.mx/img/familias/excavadoras-listado.png\" width=\"300px\" height=\"100px\" />\n",
    "\n",
    "\n",
    "# PROYECTO.\n",
    "## OPTIMIZACIÓN DE MAQUINARIA.\n",
    "### PROYECTO DE MOVIMIENTO DE TIERRAS.\n",
    "\n",
    " + FRANCISCO JAVIER DIAZ ESQUIVEL IC727603\n",
    " + ERIK DANIEL COTA VILLA IC727872"
   ]
  },
  {
   "cell_type": "code",
   "execution_count": null,
   "metadata": {},
   "outputs": [],
   "source": []
  },
  {
   "cell_type": "markdown",
   "metadata": {},
   "source": [
    "### Modelo que representa el problema.\n",
    "En este caso poseemos cinco máquinas con la capacidad de realizar trabajos de excavación. Las maquinas no tienen los mismos rendimientos y por contratos previos, su disponibilidad es limitada. Deseamos determinar la distribución y combinación de máquinas que nos permitan excavar **$500m^3$** de material en una semana y minimizando el costo. \n",
    "\n",
    "En la tabla se representan los costos, capacidades y las velocidades de operación que tienen los diferentes tipos de máquinas.\n",
    "\n",
    "\n",
    "**Equipo**|**Capacidad (m$^3$)**|**Costo($/h)**|**Disponibilidad(h/día)**|**Tiempo de ciclo(min)**\n",
    ":----|----|----|----|----\n",
    "**Cargador frontal**|  1.5|175.00|6.0|4.50\n",
    "**Excavadora hidráulica**|  2|400.00|6.0|1.00\n",
    "**Retroexcavadora A**|1.2|275.00|6.0|1.00\n",
    "**Retroexcavadora B**|  0.8|220.00|8.0|1.00\n",
    "**Grúa con almeja**|  1.2|470.00|5.5|2.25\n"
   ]
  }
 ],
 "metadata": {
  "kernelspec": {
   "display_name": "Python 3",
   "language": "python",
   "name": "python3"
  },
  "language_info": {
   "codemirror_mode": {
    "name": "ipython",
    "version": 3
   },
   "file_extension": ".py",
   "mimetype": "text/x-python",
   "name": "python",
   "nbconvert_exporter": "python",
   "pygments_lexer": "ipython3",
   "version": "3.7.4"
  }
 },
 "nbformat": 4,
 "nbformat_minor": 4
}
