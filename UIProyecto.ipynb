{
 "cells": [
  {
   "cell_type": "code",
   "execution_count": null,
   "metadata": {},
   "outputs": [],
   "source": []
  },
  {
   "cell_type": "markdown",
   "metadata": {},
   "source": [
    "### OBJETIVO:\n",
    "\n",
    "\n",
    "#### OBJETIVO GENERAL:\n",
    "\n",
    "Determinar qué combinación de maquinaria será la óptima para excavar cierta cantidad volumétrica al menor costo posible.\n",
    "\n",
    "#### OBJETIVOS ESPECÍFICOS:\n",
    "+ Propondremos un modelo que pueda ser repetitivo, concreto, evaluable y que se pueda verificar su utilidad. \n",
    "+ Resolucion por programacion lineal. \n",
    "+ De acuero a los precios, obtendremos que tipo de maquina condrendrá al contratista aumentar.\n",
    "+ Indicaremos cual es el costo por horario para que los camiones sean rentables. \n",
    "+ Obtención de maquinaria optima para el movimiento de tierras.\n",
    "\n",
    "*Limitado a la maquinaria bajo disponibilidad del contratatado.* "
   ]
  },
  {
   "cell_type": "markdown",
   "metadata": {},
   "source": [
    "**¿De qué manera se deben combinar las maquinas a fin de que los gastos sean mínimos?**\n",
    "#### Planteamiento. \n",
    "\n",
    "Definimos las variables de decisión:\n",
    "\n",
    "Siendo $x_!$: el tiempo de operación de la máquina \n",
    "\n",
    "Definimos tambien las maquinas: \n",
    "\n",
    "- $x_1$: Cargador frontal\n",
    "- $x_2$: Excavadora hidráulica\n",
    "- $x_3$: Retroexcavadora A\n",
    "- $x_4$: Retroexcavadora B\n",
    "- $x_5$: Grúa con almeja\n"
   ]
  },
  {
   "cell_type": "code",
   "execution_count": null,
   "metadata": {},
   "outputs": [],
   "source": []
  }
 ],
 "metadata": {
  "kernelspec": {
   "display_name": "Python 3",
   "language": "python",
   "name": "python3"
  },
  "language_info": {
   "codemirror_mode": {
    "name": "ipython",
    "version": 3
   },
   "file_extension": ".py",
   "mimetype": "text/x-python",
   "name": "python",
   "nbconvert_exporter": "python",
   "pygments_lexer": "ipython3",
   "version": "3.8.3"
  }
 },
 "nbformat": 4,
 "nbformat_minor": 4
}
