{
 "cells": [
  {
   "cell_type": "code",
   "execution_count": null,
   "metadata": {},
   "outputs": [],
   "source": []
  },
  {
   "cell_type": "markdown",
   "metadata": {},
   "source": [
    "### OBJETIVO:\n",
    "\n",
    "\n",
    "#### OBJETIVO GENERAL:\n",
    "\n",
    "Determinar qué combinación de maquinaria será la óptima para excavar cierta cantidad volumétrica al menor costo posible.\n",
    "\n",
    "#### OBJETIVOS ESPECÍFICOS:\n",
    "+ Propondremos un modelo que pueda ser repetitivo, concreto, evaluable y que se pueda verificar su utilidad. \n",
    "+ Resolucion por programacion lineal. \n",
    "+ De acuero a los precios, obtendremos que tipo de maquina condrendrá al contratista aumentar.\n",
    "+ Indicaremos cual es el costo por horario para que los camiones sean rentables. \n",
    "+ Obtención de maquinaria optima para el movimiento de tierras.\n",
    "\n",
    "*Limitado a la maquinaria bajo disponibilidad del contratatado.* "
   ]
  },
  {
   "cell_type": "markdown",
   "metadata": {},
   "source": [
    "**¿De qué manera se deben combinar las maquinas a fin de que los gastos sean mínimos?**\n",
    "#### Planteamiento. \n",
    "\n",
    "Definimos las variables de decisión:\n",
    "\n",
    "Siendo $x_!$: el tiempo de operación de la máquina \n",
    "\n",
    "Definimos tambien las maquinas: \n",
    "\n",
    "- $x_1$: Cargador frontal\n",
    "- $x_2$: Excavadora hidráulica\n",
    "- $x_3$: Retroexcavadora A\n",
    "- $x_4$: Retroexcavadora B\n",
    "- $x_5$: Grúa con almeja\n"
   ]
  },
  {
   "cell_type": "code",
   "execution_count": null,
   "metadata": {},
   "outputs": [],
   "source": []
  },
  {
   "cell_type": "code",
   "execution_count": 5,
   "metadata": {},
   "outputs": [],
   "source": [
    "import numpy as np\n",
    "import matplotlib.pyplot as plt\n",
    "import scipy.optimize as opt\n",
    "import sympy as sym"
   ]
  },
  {
   "cell_type": "markdown",
   "metadata": {},
   "source": [
    "Con la obtención de la función objetivo, las funciones restrictivas, estas deben ser acomodadas en forma de vectores para solucionar el sistema por medio de las funciones de Jupyter (numpy, scipy.optimize y sympy)."
   ]
  },
  {
   "cell_type": "code",
   "execution_count": 6,
   "metadata": {},
   "outputs": [],
   "source": [
    "c=np.array([175,400,275,220,470])\n",
    "A=np.array([[1,0,0,0,0],[0,1,0,0,0],[0,0,1,0,0],[0,0,0,1,0],[0,0,0,0,1],[-20,-120,-72,-48,-32]])\n",
    "b=np.array([30,30,30,40,27.5,-5000])"
   ]
  },
  {
   "cell_type": "markdown",
   "metadata": {},
   "source": [
    " Obteniendo un vector que represente la combinación requerida de máquinaria y qué costo tendra la realización del proyecto que se quiere realizar."
   ]
  },
  {
   "cell_type": "code",
   "execution_count": 8,
   "metadata": {},
   "outputs": [
    {
     "data": {
      "text/plain": [
       "     con: array([], dtype=float64)\n",
       "     fun: 17347.22222222222\n",
       " message: 'Optimization terminated successfully.'\n",
       "     nit: 12\n",
       "   slack: array([3.00000000e+01, 7.10542736e-15, 1.05555556e+01, 4.00000000e+01,\n",
       "       2.75000000e+01, 0.00000000e+00])\n",
       "  status: 0\n",
       " success: True\n",
       "       x: array([ 0.        , 30.        , 19.44444444,  0.        ,  0.        ])"
      ]
     },
     "execution_count": 8,
     "metadata": {},
     "output_type": "execute_result"
    }
   ],
   "source": [
    "sol=opt.linprog(c,A,b, method=\"simplex\")\n",
    "sol"
   ]
  },
  {
   "cell_type": "markdown",
   "metadata": {},
   "source": [
    "Esta información la podemos representar de la siguiente manera:\n",
    "\n",
    "El vector obtenido: [0,30,19.4,0,0]\n",
    "\n",
    "Los resultados nos dicen que la combinación adecuada es 30 horas con la excavadora hidráulica y 19.4 horas con retroexcavadora A \n",
    "\n",
    "El costo minimo posible para el movimiento de 5,000 $m^3$ será de $17,347 pesos. "
   ]
  },
  {
   "cell_type": "code",
   "execution_count": null,
   "metadata": {},
   "outputs": [],
   "source": []
  }
 ],
 "metadata": {
  "kernelspec": {
   "display_name": "Python 3",
   "language": "python",
   "name": "python3"
  },
  "language_info": {
   "codemirror_mode": {
    "name": "ipython",
    "version": 3
   },
   "file_extension": ".py",
   "mimetype": "text/x-python",
   "name": "python",
   "nbconvert_exporter": "python",
   "pygments_lexer": "ipython3",
   "version": "3.8.3"
  }
 },
 "nbformat": 4,
 "nbformat_minor": 4
}
