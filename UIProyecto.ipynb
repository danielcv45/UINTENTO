{
 "cells": [
  {
   "cell_type": "markdown",
   "metadata": {},
   "source": [
    "<img style=\"float: right; margin: 0px 0px 15px 15px;\" src=\"http://rentalstore.tracsa.com.mx/img/familias/excavadoras-listado.png\" width=\"300px\" height=\"100px\" />\n",
    "\n",
    "\n",
    "# PROYECTO.\n",
    "## OPTIMIZACIÓN DE MAQUINARIA.\n",
    "### PROYECTO DE MOVIMIENTO DE TIERRAS.\n",
    "\n",
    " + FRANCISCO JAVIER DIAZ ESQUIVEL IC727603\n",
    " + ERIK DANIEL COTA VILLA IC727872"
   ]
  },
  {
   "cell_type": "code",
   "execution_count": null,
   "metadata": {},
   "outputs": [],
   "source": []
  },
  {
   "cell_type": "markdown",
   "metadata": {},
   "source": [
    "### Modelo que representa el problema.\n",
    "En este caso poseemos cinco máquinas con la capacidad de realizar trabajos de excavación. Las maquinas no tienen los mismos rendimientos y por contratos previos, su disponibilidad es limitada. Deseamos determinar la distribución y combinación de máquinas que nos permitan excavar **$500m^3$** de material en una semana y minimizando el costo. \n",
    "\n",
    "En la tabla se representan los costos, capacidades y las velocidades de operación que tienen los diferentes tipos de máquinas.\n",
    "\n",
    "\n",
    "**Equipo**|**Capacidad (m$^3$)**|**Costo($/h)**|**Disponibilidad(h/día)**|**Tiempo de ciclo(min)**\n",
    ":----|----|----|----|----\n",
    "**Cargador frontal**|  1.5|175.00|6.0|4.50\n",
    "**Excavadora hidráulica**|  2|400.00|6.0|1.00\n",
    "**Retroexcavadora A**|1.2|275.00|6.0|1.00\n",
    "**Retroexcavadora B**|  0.8|220.00|8.0|1.00\n",
    "**Grúa con almeja**|  1.2|470.00|5.5|2.25\n"
   ]
  },
  {
   "cell_type": "code",
   "execution_count": null,
   "metadata": {},
   "outputs": [],
   "source": []
  },
  {
   "cell_type": "markdown",
   "metadata": {},
   "source": [
    "Se tienen las siguientes ecuaciones:\n",
    "\n",
    "Formulamos la función de costo-objetivo (a minimizar), sumando los costos que requiere la operación de cada equipo: \n",
    "\n",
    "Función a minimizar: \n",
    "$175x_1+400x_2+275x_3+220x_4+470x_5$\n",
    "\n",
    "Para que las restricciones de disponibilidad se ajusten a el tiempo común que le toma a cada máquina realizar el trabajo, debemos multiplicar la disponibilidad que presenta cada máquina por los 5 días de labor disponibles. \n",
    "\n",
    "Restricciones de disponibilidad:\n",
    "* $x_1\\leq30$\n",
    "* $x_2\\leq30$\n",
    "* $x_3\\leq30$\n",
    "* $x_4\\leq40$\n",
    "* $x_5\\leq27.5$\n",
    "\n",
    "Para poder definir la restricción del material total excavado, es necesario encontrar el volumen por hora que puede remover cada máquina, por lo que es necesario desarrollar estas operaciones: \n",
    "\n",
    "+ Para la maquina $x_1$: (1.5$m^3/ciclo$ * 60$min/hr.$) / (4.5$min/ciclo$) = 20$m^3/hr.$\n",
    "+  Para la maquina $x_2$: (2.0$m^3/ciclo$ * 60$min/hr.$) / (1.0$min/ciclo$) = 120$m^3/hr.$\n",
    "+  Para la maquina $x_3$: (1.2$m^3/ciclo$ * 60$min/hr.$) / (1.0$min/ciclo$) = 72$m^3/hr.$\n",
    "+  Para la maquina $x_4$: (0.8$m^3/ciclo$ * 60$min/hr.$) / (1.0$min/ciclo$) = 48$m^3/hr.$\n",
    "+  Para la maquina $x_5$: (1.2$m^3/ciclo$ * 60$min/hr.$) / (2.25$min/ciclo$) = 32$m^3/hr.$\n",
    "\n",
    "Multiplicando por el tiempo respectivo que demora cada operación y sumando el volumen movido por cada máquina, obtenemos la última restricción que se nos presenta.\n",
    "\n",
    "Restricción de material excavado:\n",
    "$20x_1+120x_2+72x_3+48x_4+32x_5=5000$\n"
   ]
  },
  {
   "cell_type": "markdown",
   "metadata": {},
   "source": [
    "#### REPRESENTACIÓN DE RESULTADOS:\n",
    "**Equipo**|**Tiempo que debería trabajar**|**Costo**|\n",
    ":----|----|----|\n",
    "**Excavadora hidráulica**|  30hr.|12,000mx|\n",
    "**Retroexcavadora A**|19.4hr.|5,346mx|\n",
    "**Total**||17,347mx.|"
   ]
  },
  {
   "cell_type": "markdown",
   "metadata": {},
   "source": [
    "### CONCLUSIÓN\n",
    "\n",
    "Los resultados obtenidos son realistas, correctos y nos demuestran que diversas situaciones que se viven en el ámbito profesional, pueden ser resueltas con mayor exactitud, veracidad, repetible y que pueden ajustarse a los diferentes tipos de proyectos que se nos presenten.\n",
    "\n",
    "Es interesante que el apoyo de jupyter y sus funciones nos permiten realizar presupuestos y mejor aún reducir los costos, ya que, en el sector de la ingeniería civil al manejarse grandes cantidades de dinero para la realización de proyectos, se deja de un lado gastos que se pudieron haber evitado o administrado mejor por no poder contar herramientas tan sencillas como la utilizada en este proyecto. \n",
    "\n",
    "Nosotros como futuros ingenieros tenemos que adaptar estas ayudas que se nos proporcionan a nuestra vida profesional, el manejo de estas herramientas nos permitirán ser profesionales más preparados que los demás. \n",
    "\n",
    "El buscar la solución a la respuesta fue intrigante y un poco tedioso, pero la satisfacción de obtener el proceso correcto, es aún mayor.\n"
   ]
  },
  {
   "cell_type": "markdown",
   "metadata": {},
   "source": [
    "### BIBLIOGRAFÍA\n",
    "\n",
    "Pacheco, B. (2012). Ejercicios dirigidos y problemas resueltos de teoría general de sistemas aplicada a la Ingeniería Civil. septiembre 28, 2020, de UNAM Sitio web: http://www.ptolomeo.unam.mx:8080/xmlui/bitstream/handle/132.248.52.100/567/A4.pdf?sequence=4\n",
    "\n",
    "\n",
    "Da Silva, M. (2010). Generador de presentaciones multimedia. septiembre 29, 2020, de Slideshare Sitio web: https://es.slideshare.net/MeireComputacion/power-point-pautas-para-una-buen-trabajo"
   ]
  }
 ],
 "metadata": {
  "kernelspec": {
   "display_name": "Python 3",
   "language": "python",
   "name": "python3"
  },
  "language_info": {
   "codemirror_mode": {
    "name": "ipython",
    "version": 3
   },
   "file_extension": ".py",
   "mimetype": "text/x-python",
   "name": "python",
   "nbconvert_exporter": "python",
   "pygments_lexer": "ipython3",
   "version": "3.7.4"
  }
 },
 "nbformat": 4,
 "nbformat_minor": 4
}
